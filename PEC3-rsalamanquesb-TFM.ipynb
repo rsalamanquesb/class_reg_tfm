{
 "cells": [
  {
   "cell_type": "markdown",
   "metadata": {},
   "source": [
    "<div style=\"width: 100%; clear: both;\">\n",
    "<div style=\"float: left; width: 50%;\">\n",
    "<img src=\"http://www.uoc.edu/portal/_resources/common/imatges/marca_UOC/UOC_Masterbrand.jpg\" align=\"left\">\n",
    "</div>\n",
    "</div>\n",
    "<div style=\"float: right; width: 50%;\">\n",
    "<p style=\"margin: 0; padding-top: 22px; text-align:right;\">M2.869 - TFM-Minería de datos y machine learning</p>\n",
    "<p style=\"margin: 0; text-align:right;\">Máster universitario en Ciencias de datos (Data science)</p>\n",
    "<p style=\"margin: 0; text-align:right; padding-button: 100px;\">Estudios de Informática, Multimedia y Telecomunicaciones</p>\n",
    "<p style=\"margin: 0; text-align:right; padding-button: 100px;\">Rubén Salamanqués Ballesteros</p>\n",
    "</div>\n",
    "</div>\n",
    "<div style=\"width: 100%; clear: both;\">\n",
    "<div style=\"width:100%;\">&nbsp;</div>\n",
    "\n",
    "\n",
    "# PEC 3: Diseño e Implementación. Mantenimiento predictivo.\n",
    "\n",
    "Se importan las bibliotecas generales que se usarán en el tratamiento de datos."
   ]
  },
  {
   "cell_type": "code",
   "execution_count": 1,
   "metadata": {
    "ExecuteTime": {
     "end_time": "2018-12-29T11:52:12.446227Z",
     "start_time": "2018-12-29T11:52:11.950057Z"
    }
   },
   "outputs": [],
   "source": [
    "%matplotlib inline\n",
    "import pandas as pd\n",
    "import matplotlib.pyplot as plt\n",
    "import numpy as np"
   ]
  },
  {
   "cell_type": "markdown",
   "metadata": {},
   "source": [
    "## 1. Carga y preparación de los datos\n",
    "\n",
    "En este apartado se cargarán los datos disponibles para generar los conjuntos necesarios para la creación del modelo predictivo. A continuación se analizarán los datos cargados para realizar tareas de preproceso si fuesen necesarias."
   ]
  },
  {
   "cell_type": "markdown",
   "metadata": {},
   "source": [
    "<div style=\"background-color: #EDF7FF; border-color: #7C9DBF; border-left: 5px solid #7C9DBF; padding: 0.5em;\">\n",
    "Carga del conjunto <strong>Datos</strong> que contiene los datos de operación de la máquina estudiada.\n",
    "</div>\n"
   ]
  },
  {
   "cell_type": "code",
   "execution_count": 2,
   "metadata": {},
   "outputs": [],
   "source": [
    "Datos = pd.read_excel(\"./predictive-maintenance1/feature.xlsx\", header=[0,1])"
   ]
  },
  {
   "cell_type": "markdown",
   "metadata": {},
   "source": [
    "Muestra de columnas del conjunto cargado."
   ]
  },
  {
   "cell_type": "code",
   "execution_count": 3,
   "metadata": {},
   "outputs": [
    {
     "name": "stdout",
     "output_type": "stream",
     "text": [
      "  Unnamed: 0_level_0     count                 max                 min  \\\n",
      "                date 136088194 136088202 136088194 136088202 136088194   \n",
      "0         2015-05-03         0         0       NaN       NaN       NaN   \n",
      "1         2015-05-04         0         0       NaN       NaN       NaN   \n",
      "2         2015-05-05         0         0       NaN       NaN       NaN   \n",
      "\n",
      "                 mean                 std            \n",
      "  136088202 136088194 136088202 136088194 136088202  \n",
      "0       NaN       NaN       NaN       NaN       NaN  \n",
      "1       NaN       NaN       NaN       NaN       NaN  \n",
      "2       NaN       NaN       NaN       NaN       NaN  \n",
      "    Unnamed: 0_level_0     count                 max                 min  \\\n",
      "                  date 136088194 136088202 136088194 136088202 136088194   \n",
      "980         2018-01-15         5         0    5174.0       NaN    1921.0   \n",
      "981         2018-01-16        23         0   84349.0       NaN   18915.0   \n",
      "982         2018-01-17         6         0    7147.0       NaN    1891.0   \n",
      "\n",
      "                       mean                     std            \n",
      "    136088202     136088194 136088202     136088194 136088202  \n",
      "980       NaN   3239.800000       NaN   1231.431565       NaN  \n",
      "981       NaN  71312.869565       NaN  21114.843366       NaN  \n",
      "982       NaN   5363.166667       NaN   2530.646195       NaN  \n"
     ]
    }
   ],
   "source": [
    "print(Datos.iloc[:,[0,1,2,27,28,53,54,79,80,105,106]].head(3))\n",
    "print(Datos.iloc[:,[0,1,2,27,28,53,54,79,80,105,106]].tail(3))"
   ]
  },
  {
   "cell_type": "markdown",
   "metadata": {},
   "source": [
    "Información del conjunto cargado."
   ]
  },
  {
   "cell_type": "code",
   "execution_count": 4,
   "metadata": {},
   "outputs": [
    {
     "name": "stdout",
     "output_type": "stream",
     "text": [
      "<class 'pandas.core.frame.DataFrame'>\n",
      "Int64Index: 983 entries, 0 to 982\n",
      "Columns: 131 entries, (Unnamed: 0_level_0, date) to (std, 136676754)\n",
      "dtypes: datetime64[ns](1), float64(104), int64(26)\n",
      "memory usage: 1013.7 KB\n"
     ]
    }
   ],
   "source": [
    "Datos.info()"
   ]
  },
  {
   "cell_type": "markdown",
   "metadata": {},
   "source": [
    "Se rellenan los valores nulos (NaN) con ceros para poder utilizar todas las columnas en el entrenamiento del modelo de predicción."
   ]
  },
  {
   "cell_type": "code",
   "execution_count": 5,
   "metadata": {
    "scrolled": false
   },
   "outputs": [
    {
     "name": "stdout",
     "output_type": "stream",
     "text": [
      "  Unnamed: 0_level_0     count                 max                 min  \\\n",
      "                date 136088194 136088202 136088194 136088202 136088194   \n",
      "0         2015-05-03         0         0       0.0       0.0       0.0   \n",
      "1         2015-05-04         0         0       0.0       0.0       0.0   \n",
      "2         2015-05-05         0         0       0.0       0.0       0.0   \n",
      "\n",
      "                 mean                 std            \n",
      "  136088202 136088194 136088202 136088194 136088202  \n",
      "0       0.0       0.0       0.0       0.0       0.0  \n",
      "1       0.0       0.0       0.0       0.0       0.0  \n",
      "2       0.0       0.0       0.0       0.0       0.0  \n",
      "    Unnamed: 0_level_0     count                 max                 min  \\\n",
      "                  date 136088194 136088202 136088194 136088202 136088194   \n",
      "980         2018-01-15         5         0    5174.0       0.0    1921.0   \n",
      "981         2018-01-16        23         0   84349.0       0.0   18915.0   \n",
      "982         2018-01-17         6         0    7147.0       0.0    1891.0   \n",
      "\n",
      "                       mean                     std            \n",
      "    136088202     136088194 136088202     136088194 136088202  \n",
      "980       0.0   3239.800000       0.0   1231.431565       0.0  \n",
      "981       0.0  71312.869565       0.0  21114.843366       0.0  \n",
      "982       0.0   5363.166667       0.0   2530.646195       0.0  \n"
     ]
    }
   ],
   "source": [
    "Datos = Datos.fillna(0)\n",
    "print(Datos.iloc[:,[0,1,2,27,28,53,54,79,80,105,106]].head(3))\n",
    "print(Datos.iloc[:,[0,1,2,27,28,53,54,79,80,105,106]].tail(3))"
   ]
  },
  {
   "cell_type": "markdown",
   "metadata": {},
   "source": [
    "<div style=\"background-color: #EDF7FF; border-color: #7C9DBF; border-left: 5px solid #7C9DBF; padding: 0.5em;\">\n",
    "Carga del conjunto <strong>Label_train</strong> que contiene las fechas y las etiquetas que indican si la máquina ha sufrido error o no.\n",
    "</div>\n",
    " "
   ]
  },
  {
   "cell_type": "code",
   "execution_count": 6,
   "metadata": {},
   "outputs": [
    {
     "name": "stdout",
     "output_type": "stream",
     "text": [
      "       date  label\n",
      "0  3/5/2015    NaN\n",
      "1  4/5/2015    0.0\n",
      "2  5/5/2015    0.0\n",
      "3  6/5/2015    0.0\n",
      "4  7/5/2015    0.0\n",
      "          date  label\n",
      "679  20/3/2017    0.0\n",
      "680  21/3/2017    0.0\n",
      "681  22/3/2017    0.0\n",
      "682  23/3/2017    1.0\n",
      "683  24/3/2017    1.0\n"
     ]
    }
   ],
   "source": [
    "Label_train = pd.read_csv(\"./predictive-maintenance1/train_label.csv\")\n",
    "\n",
    "print(Label_train.head(5))\n",
    "print(Label_train.tail(5))"
   ]
  },
  {
   "cell_type": "markdown",
   "metadata": {},
   "source": [
    "Información del conjunto cargado."
   ]
  },
  {
   "cell_type": "code",
   "execution_count": 7,
   "metadata": {},
   "outputs": [
    {
     "name": "stdout",
     "output_type": "stream",
     "text": [
      "<class 'pandas.core.frame.DataFrame'>\n",
      "RangeIndex: 684 entries, 0 to 683\n",
      "Data columns (total 2 columns):\n",
      "date     684 non-null object\n",
      "label    683 non-null float64\n",
      "dtypes: float64(1), object(1)\n",
      "memory usage: 10.8+ KB\n"
     ]
    }
   ],
   "source": [
    "Label_train.info()"
   ]
  },
  {
   "cell_type": "markdown",
   "metadata": {},
   "source": [
    "<div style=\"background-color: #EDF7FF; border-color: #7C9DBF; border-left: 5px solid #7C9DBF; padding: 0.5em;\">\n",
    "Carga del conjunto <strong>Label_test</strong> que contiene las fechas y las predicciones expresadas como probabilidad de error. En este conjunto están las fechas posteriores a las contenidas en el conjunto de etiquetas anteriormente cargado.\n",
    "</div>\n",
    " "
   ]
  },
  {
   "cell_type": "code",
   "execution_count": 8,
   "metadata": {},
   "outputs": [
    {
     "name": "stdout",
     "output_type": "stream",
     "text": [
      "        date     label\n",
      "0  25/3/2017  0.130578\n",
      "1  26/3/2017  0.124545\n",
      "2  27/3/2017  0.111402\n",
      "3  28/3/2017  0.115621\n",
      "4  29/3/2017  0.071451\n",
      "          date     label\n",
      "295  14/1/2018  0.000136\n",
      "296  15/1/2018  0.018140\n",
      "297  16/1/2018  0.120146\n",
      "298  17/1/2018  0.233896\n",
      "299  18/1/2018  0.089933\n"
     ]
    }
   ],
   "source": [
    "Label_test = pd.read_csv(\"./predictive-maintenance1/test_label_sample.csv\")\n",
    "\n",
    "print(Label_test.head(5))\n",
    "print(Label_test.tail(5))"
   ]
  },
  {
   "cell_type": "markdown",
   "metadata": {},
   "source": [
    "Información del conjunto cargado."
   ]
  },
  {
   "cell_type": "code",
   "execution_count": 9,
   "metadata": {},
   "outputs": [
    {
     "name": "stdout",
     "output_type": "stream",
     "text": [
      "<class 'pandas.core.frame.DataFrame'>\n",
      "RangeIndex: 300 entries, 0 to 299\n",
      "Data columns (total 2 columns):\n",
      "date     300 non-null object\n",
      "label    300 non-null float64\n",
      "dtypes: float64(1), object(1)\n",
      "memory usage: 4.8+ KB\n"
     ]
    }
   ],
   "source": [
    "Label_test.info()"
   ]
  },
  {
   "cell_type": "markdown",
   "metadata": {},
   "source": [
    "Como las predicciones de un día se realizarán con los datos de operación del día anterior, el primer registro del conjunto de etiquetas **Label_train** tiene valor nulo por no disponer de los datos de operación del día anterior en el conjunto **Datos**. Se elimina ese primer registro para que más adelante la primera fila de **Datos** se corresponda con la segunda fila (que pasará a ser la primera) de **Label_train**."
   ]
  },
  {
   "cell_type": "code",
   "execution_count": 10,
   "metadata": {},
   "outputs": [
    {
     "data": {
      "text/html": [
       "<div>\n",
       "<style scoped>\n",
       "    .dataframe tbody tr th:only-of-type {\n",
       "        vertical-align: middle;\n",
       "    }\n",
       "\n",
       "    .dataframe tbody tr th {\n",
       "        vertical-align: top;\n",
       "    }\n",
       "\n",
       "    .dataframe thead th {\n",
       "        text-align: right;\n",
       "    }\n",
       "</style>\n",
       "<table border=\"1\" class=\"dataframe\">\n",
       "  <thead>\n",
       "    <tr style=\"text-align: right;\">\n",
       "      <th></th>\n",
       "      <th>date</th>\n",
       "      <th>label</th>\n",
       "    </tr>\n",
       "  </thead>\n",
       "  <tbody>\n",
       "    <tr>\n",
       "      <th>1</th>\n",
       "      <td>4/5/2015</td>\n",
       "      <td>0.0</td>\n",
       "    </tr>\n",
       "    <tr>\n",
       "      <th>2</th>\n",
       "      <td>5/5/2015</td>\n",
       "      <td>0.0</td>\n",
       "    </tr>\n",
       "    <tr>\n",
       "      <th>3</th>\n",
       "      <td>6/5/2015</td>\n",
       "      <td>0.0</td>\n",
       "    </tr>\n",
       "    <tr>\n",
       "      <th>4</th>\n",
       "      <td>7/5/2015</td>\n",
       "      <td>0.0</td>\n",
       "    </tr>\n",
       "    <tr>\n",
       "      <th>5</th>\n",
       "      <td>8/5/2015</td>\n",
       "      <td>0.0</td>\n",
       "    </tr>\n",
       "  </tbody>\n",
       "</table>\n",
       "</div>"
      ],
      "text/plain": [
       "       date  label\n",
       "1  4/5/2015    0.0\n",
       "2  5/5/2015    0.0\n",
       "3  6/5/2015    0.0\n",
       "4  7/5/2015    0.0\n",
       "5  8/5/2015    0.0"
      ]
     },
     "execution_count": 10,
     "metadata": {},
     "output_type": "execute_result"
    }
   ],
   "source": [
    "Label_train = Label_train.drop(0) #Se elimina la fila con índice 0\n",
    "Label_train.head(5)"
   ]
  },
  {
   "cell_type": "markdown",
   "metadata": {},
   "source": [
    "Se divide el conjunto **Datos** en **Datos_train** como conjunto de entrenamiento y **Datos_test** como conjunto de comprobación."
   ]
  },
  {
   "cell_type": "code",
   "execution_count": 11,
   "metadata": {},
   "outputs": [],
   "source": [
    "Datos_train = Datos.head(683) #683 primeras filas para el conjunto de \n",
    "                              #entrenamiento\n",
    "Datos_test = Datos.tail(300) #300 últimas filas para el conjunto de test"
   ]
  },
  {
   "cell_type": "code",
   "execution_count": 12,
   "metadata": {},
   "outputs": [
    {
     "name": "stdout",
     "output_type": "stream",
     "text": [
      "Dimensiones del conjunto Datos_train: (683, 131)\n",
      "Dimensiones del conjunto Label_train: (683, 2)\n",
      "Dimensiones del conjunto Datos_test: (300, 131)\n",
      "Dimensiones del conjunto Label_test: (300, 2)\n"
     ]
    }
   ],
   "source": [
    "print(\"Dimensiones del conjunto Datos_train: \"+str(Datos_train.shape))\n",
    "print(\"Dimensiones del conjunto Label_train: \"+str(Label_train.shape))\n",
    "print(\"Dimensiones del conjunto Datos_test: \"+str(Datos_test.shape))\n",
    "print(\"Dimensiones del conjunto Label_test: \"+str(Label_test.shape))"
   ]
  },
  {
   "cell_type": "markdown",
   "metadata": {},
   "source": [
    "## 2. Creación de modelos predictivos\n",
    "\n",
    "En este apartado se generarán distintos modelos predictivos hasta obtener uno que arroje un buen nivel de predicciones."
   ]
  },
  {
   "cell_type": "markdown",
   "metadata": {},
   "source": [
    "<div style=\"background-color: #EDF7FF; border-color: #7C9DBF; border-left: 5px solid #7C9DBF; padding: 0.5em;\">\n",
    "Carga de las bibliotecas necesarias para la generación de modelos de regresión logística y para su evaluación.\n",
    "</div>"
   ]
  },
  {
   "cell_type": "code",
   "execution_count": 13,
   "metadata": {},
   "outputs": [],
   "source": [
    "from sklearn.linear_model import LogisticRegression\n",
    "from sklearn.metrics import roc_auc_score"
   ]
  },
  {
   "cell_type": "markdown",
   "metadata": {},
   "source": [
    "### 2.1. Modelo de clasificación\n",
    "\n",
    "Se crea un modelo de clasificación por regresión logística que utiliza todas las variables disponibles en los conjuntos de datos a excepción de las columnas con las fechas."
   ]
  },
  {
   "cell_type": "markdown",
   "metadata": {},
   "source": [
    "<div style=\"background-color: #EDF7FF; border-color: #7C9DBF; border-left: 5px solid #7C9DBF; padding: 0.5em;\">\n",
    "Se eliminan las columnas de fechas.\n",
    "</div>"
   ]
  },
  {
   "cell_type": "code",
   "execution_count": 14,
   "metadata": {
    "scrolled": true
   },
   "outputs": [],
   "source": [
    "#Se eliminan las columnas de las fechas\n",
    "Datos_train = Datos_train.drop(('Unnamed: 0_level_0','date'), axis=1)\n",
    "Datos_test = Datos_test.drop(('Unnamed: 0_level_0','date'), axis=1)\n",
    "Label_train = Label_train.drop('date', axis=1)\n",
    "Label_test = Label_test.drop('date', axis=1)"
   ]
  },
  {
   "cell_type": "markdown",
   "metadata": {},
   "source": [
    "<div style=\"background-color: #EDF7FF; border-color: #7C9DBF; border-left: 5px solid #7C9DBF; padding: 0.5em;\">\n",
    "Se crea el modelo y se obtienen las predicciones.\n",
    "</div>"
   ]
  },
  {
   "cell_type": "code",
   "execution_count": 15,
   "metadata": {},
   "outputs": [],
   "source": [
    "model = LogisticRegression() #Creación del modelo\n",
    "model.fit(Datos_train, Label_train['label']) #Ajuste a los datos\n",
    "Label_predict = model.predict_proba(Datos_test) #Obtención de predicciones"
   ]
  },
  {
   "cell_type": "markdown",
   "metadata": {},
   "source": [
    "<div style=\"background-color: #EDF7FF; border-color: #7C9DBF; border-left: 5px solid #7C9DBF; padding: 0.5em;\">\n",
    "Se evalúan las predicciones.\n",
    "</div>"
   ]
  },
  {
   "cell_type": "code",
   "execution_count": 16,
   "metadata": {},
   "outputs": [
    {
     "data": {
      "text/plain": [
       "0.38064094179202096"
      ]
     },
     "execution_count": 16,
     "metadata": {},
     "output_type": "execute_result"
    }
   ],
   "source": [
    "#Cálculo de la AUC según la segunda columna de las predicciones,\n",
    "#la que representa la probabilidad de un fallo.\n",
    "#Las etiquetas de test se redondean a entero para poder obtener \n",
    "#la puntuación\n",
    "roc_auc = roc_auc_score(Label_test.round(), Label_predict[:,1])\n",
    "roc_auc"
   ]
  },
  {
   "cell_type": "markdown",
   "metadata": {},
   "source": [
    "### 2.2. Reducción de variables de entrada\n",
    "\n",
    "El resultado del modelo anterior ha sido muy pobre, como la mayoría de las variables de entrada tienen el valor cero se va a generar un nuevo modelo teniendo en cuenta únicamente los datos de las columnas bajo la categoría **count**."
   ]
  },
  {
   "cell_type": "markdown",
   "metadata": {},
   "source": [
    "<div style=\"background-color: #EDF7FF; border-color: #7C9DBF; border-left: 5px solid #7C9DBF; padding: 0.5em;\">\n",
    "Se obtienen nuevos conjuntos de entrenamiento y test solo con las columnas de <strong>count</strong>.\n",
    "</div>"
   ]
  },
  {
   "cell_type": "code",
   "execution_count": 17,
   "metadata": {},
   "outputs": [],
   "source": [
    "#Los nuevos conjuntos tienen las mismas filas que los anteriores\n",
    "#pero solo las columnas bajo la categoría 'count'\n",
    "Datos_train_count = Datos_train.iloc[:,0:26]\n",
    "Datos_test_count = Datos_test.iloc[:,0:26]"
   ]
  },
  {
   "cell_type": "markdown",
   "metadata": {},
   "source": [
    "<div style=\"background-color: #EDF7FF; border-color: #7C9DBF; border-left: 5px solid #7C9DBF; padding: 0.5em;\">\n",
    "Se crea el modelo y se obtienen las predicciones.\n",
    "</div>"
   ]
  },
  {
   "cell_type": "code",
   "execution_count": 18,
   "metadata": {
    "scrolled": false
   },
   "outputs": [],
   "source": [
    "model_count = LogisticRegression() #Creación del modelo\n",
    "model_count.fit(Datos_train_count, Label_train['label']) #Ajuste a los datos\n",
    "Label_predict_count = model_count.predict_proba(Datos_test_count) #Obtención de predicciones"
   ]
  },
  {
   "cell_type": "markdown",
   "metadata": {},
   "source": [
    "<div style=\"background-color: #EDF7FF; border-color: #7C9DBF; border-left: 5px solid #7C9DBF; padding: 0.5em;\">\n",
    "Se evalúan las predicciones.\n",
    "</div>"
   ]
  },
  {
   "cell_type": "code",
   "execution_count": 19,
   "metadata": {},
   "outputs": [
    {
     "data": {
      "text/plain": [
       "0.5322105951602355"
      ]
     },
     "execution_count": 19,
     "metadata": {},
     "output_type": "execute_result"
    }
   ],
   "source": [
    "roc_auc_count = roc_auc_score(Label_test.round(), Label_predict_count[:,1])\n",
    "roc_auc_count"
   ]
  },
  {
   "cell_type": "markdown",
   "metadata": {},
   "source": [
    "### 2.3. Reducción PCA\n",
    "\n",
    "El modelo anterior ha mejorado los resultados en comparación con el primero pero sigue teniendo un nivel muy pobre de predicción. En este apartado se va a generar un modelo con la técnica de reducción de la dimensionalidad PCA.\n",
    "\n",
    "Se generarán varios modelos, cada uno de ellos con un número distinto de componentes PCA, evaluando todos ellos para elegir el mejor."
   ]
  },
  {
   "cell_type": "markdown",
   "metadata": {},
   "source": [
    "<div style=\"background-color: #EDF7FF; border-color: #7C9DBF; border-left: 5px solid #7C9DBF; padding: 0.5em;\">\n",
    "Se crean varios modelos que van desde 3 a 25 componentes PCA, se evalúan y guardan sus resulados.\n",
    "</div>"
   ]
  },
  {
   "cell_type": "code",
   "execution_count": 20,
   "metadata": {},
   "outputs": [
    {
     "name": "stdout",
     "output_type": "stream",
     "text": [
      "Puntuación AUC para reducción PCA con \n",
      "3 componentes: 0.06426\n",
      "4 componentes: 0.01815\n",
      "5 componentes: 0.01815\n",
      "6 componentes: 0.52632\n",
      "7 componentes: 0.53123\n",
      "8 componentes: 0.53434\n",
      "9 componentes: 0.52796\n",
      "10 componentes: 0.59778\n",
      "11 componentes: 0.59892\n",
      "12 componentes: 0.54022\n",
      "13 componentes: 0.543\n",
      "14 componentes: 0.55347\n",
      "15 componentes: 0.55674\n",
      "16 componentes: 0.5654\n",
      "17 componentes: 0.62884\n",
      "18 componentes: 0.60742\n",
      "19 componentes: 0.98823\n",
      "20 componentes: 0.71207\n",
      "21 componentes: 0.54022\n",
      "22 componentes: 0.54382\n",
      "23 componentes: 0.54725\n",
      "24 componentes: 0.54464\n",
      "25 componentes: 0.5448\n"
     ]
    }
   ],
   "source": [
    "from sklearn.decomposition import PCA #Permite aplicar la reducción PCA\n",
    "\n",
    "lista_auc = [] #Lista donde se guardarán los resultados\n",
    "print('Puntuación AUC para reducción PCA con ')\n",
    "for i in np.arange(3,26):\n",
    "    pca = PCA(n_components=i) #Objeto PCA, se indican los componentes finales\n",
    "    pca_fit = pca.fit(Datos_train_count) #Ajuste a los datos de entrada\n",
    "    Datos_train_pca = pca_fit.transform(Datos_train_count) #Entrenamiento\n",
    "    Datos_test_pca = pca_fit.transform(Datos_test_count) #Test\n",
    "    model_pca = LogisticRegression() #Creación del modelo\n",
    "    model_pca.fit(Datos_train_pca, Label_train['label']) #Ajuste a los datos\n",
    "    Label_predict_pca = model_pca.predict_proba(Datos_test_pca) #Predicciones\n",
    "    #Puntuación AUC\n",
    "    roc_auc_pca = roc_auc_score(Label_test.round(), Label_predict_pca[:,1])\n",
    "    lista_auc.append([i,roc_auc_pca]) #Se guardan los resultados en una lista\n",
    "    print(str(i)+' componentes: '+str(roc_auc_pca.round(5)))    "
   ]
  },
  {
   "cell_type": "markdown",
   "metadata": {},
   "source": [
    "<div style=\"background-color: #EDF7FF; border-color: #7C9DBF; border-left: 5px solid #7C9DBF; padding: 0.5em;\">\n",
    "Se representan los resultados obtenidos en un gráfico.\n",
    "</div>"
   ]
  },
  {
   "cell_type": "code",
   "execution_count": 21,
   "metadata": {},
   "outputs": [
    {
     "data": {
      "image/png": "[encoded data removed]",
      "text/plain": [
       "<Figure size 432x288 with 1 Axes>"
      ]
     },
     "metadata": {},
     "output_type": "display_data"
    }
   ],
   "source": [
    "#Se transforma la lista en una matriz\n",
    "matriz_auc = np.array(lista_auc)\n",
    "\n",
    "#Se representan los resultados\n",
    "plt.figure()\n",
    "plt.title(\"Puntuaciones AUC para reducciones PCA\")\n",
    "plt.xlabel(\"Nº de componentes PCA\")\n",
    "plt.ylabel(\"Puntuación\")\n",
    "plt.plot(matriz_auc[:,0],matriz_auc[:,1], marker='.')\n",
    "plt.show()"
   ]
  },
  {
   "cell_type": "markdown",
   "metadata": {},
   "source": [
    "<div style=\"background-color: #EDF7FF; border-color: #7C9DBF; border-left: 5px solid #7C9DBF; padding: 0.5em;\">\n",
    "Se obtiene el modelo final basándose en los resultados analizados. Tendrá 19 componentes PCA.\n",
    "</div>"
   ]
  },
  {
   "cell_type": "code",
   "execution_count": 22,
   "metadata": {},
   "outputs": [],
   "source": [
    "pca = PCA(n_components=19) #Objeto PCA, se indican los componentes finales\n",
    "pca_fit = pca.fit(Datos_train_count) #Ajuste a los datos de entrada\n",
    "Datos_train_pca = pca_fit.transform(Datos_train_count) #Entrenamiento\n",
    "Datos_test_pca = pca_fit.transform(Datos_test_count) #Test\n",
    "model_pca_final = LogisticRegression() #Creación del modelo\n",
    "model_pca_final.fit(Datos_train_pca, Label_train['label']) #Ajuste a los datos\n",
    "Label_predict_pca = model_pca_final.predict_proba(Datos_test_pca) #Predicciones"
   ]
  },
  {
   "cell_type": "markdown",
   "metadata": {},
   "source": [
    "<div style=\"background-color: #EDF7FF; border-color: #7C9DBF; border-left: 5px solid #7C9DBF; padding: 0.5em;\">\n",
    "Se representa la curva ROC de los resultados del modelo final.\n",
    "</div>"
   ]
  },
  {
   "cell_type": "code",
   "execution_count": 23,
   "metadata": {},
   "outputs": [
    {
     "data": {
      "image/png": "[encoded data removed]",
      "text/plain": [
       "<Figure size 432x288 with 1 Axes>"
      ]
     },
     "metadata": {},
     "output_type": "display_data"
    }
   ],
   "source": [
    "#Bibliotecas para dibujar la curva ROC\n",
    "from sklearn.metrics import auc\n",
    "from sklearn.metrics import roc_curve\n",
    "\n",
    "#Cáclulo de la curva ROC\n",
    "fpr, tpr, threshold = roc_curve(Label_test.round(), Label_predict_pca[:,1])\n",
    "roc_auc = auc(fpr, tpr) #Evaluación\n",
    "\n",
    "#Parámetros para el gráfico\n",
    "plt.title('Curva ROC del modelo PCA de 19 componentes')\n",
    "plt.plot(fpr, tpr, 'b', label = 'AUC = %0.3f' % roc_auc)\n",
    "plt.legend(loc = 'lower right')\n",
    "plt.plot([0, 1], [0, 1],'r--')\n",
    "plt.xlim([-0.1, 1.1])\n",
    "plt.ylim([-0.1, 1.1])\n",
    "plt.ylabel('Índice de Verdaderos positivos')\n",
    "plt.xlabel('Índice de Falsos positivos')\n",
    "plt.show()"
   ]
  },
  {
   "cell_type": "markdown",
   "metadata": {},
   "source": [
    "<div style=\"background-color: #EDF7FF; border-color: #7C9DBF; border-left: 5px solid #7C9DBF; padding: 0.5em;\">\n",
    "Se generan las predicciones en formato de doble columna, fecha y probabilidad de fallo.\n",
    "</div>"
   ]
  },
  {
   "cell_type": "code",
   "execution_count": 29,
   "metadata": {},
   "outputs": [
    {
     "name": "stdout",
     "output_type": "stream",
     "text": [
      "        date     label\n",
      "0 2017-03-25  0.112550\n",
      "1 2017-03-26  0.132014\n",
      "2 2017-03-27  0.103643\n",
      "3 2017-03-28  0.104041\n",
      "4 2017-03-29  0.054267\n",
      "          date     label\n",
      "295 2018-01-14  0.190410\n",
      "296 2018-01-15  0.729381\n",
      "297 2018-01-16  0.162552\n",
      "298 2018-01-17  0.528244\n",
      "299 2018-01-18  0.221256\n",
      "Dimensiones del conjunto de resultados: (300, 2)\n"
     ]
    }
   ],
   "source": [
    "#Creación del conjunto de datos con los resultados\n",
    "fechas_pred = pd.date_range(start='25/03/2017', end='18/01/2018')\n",
    "\n",
    "resultados = pd.DataFrame({'date': fechas_pred, 'label': Label_predict_pca[:,1]})\n",
    "print(resultados.head(5))\n",
    "print(resultados.tail(5))\n",
    "print(\"Dimensiones del conjunto de resultados: \"+str(resultados.shape))"
   ]
  },
  {
   "cell_type": "markdown",
   "metadata": {},
   "source": [
    "<div style=\"background-color: #EDF7FF; border-color: #7C9DBF; border-left: 5px solid #7C9DBF; padding: 0.5em;\">\n",
    "Se exportan las predicciones a formato CSV.\n",
    "</div>"
   ]
  },
  {
   "cell_type": "code",
   "execution_count": 25,
   "metadata": {},
   "outputs": [],
   "source": [
    "#Exportación a .csv\n",
    "resultados.to_csv(\"./predictive-maintenance1/resultados.csv\", index=False)"
   ]
  },
  {
   "cell_type": "code",
   "execution_count": null,
   "metadata": {},
   "outputs": [],
   "source": []
  }
 ],
 "metadata": {
  "kernelspec": {
   "display_name": "Python 3",
   "language": "python",
   "name": "python3"
  },
  "language_info": {
   "codemirror_mode": {
    "name": "ipython",
    "version": 3
   },
   "file_extension": ".py",
   "mimetype": "text/x-python",
   "name": "python",
   "nbconvert_exporter": "python",
   "pygments_lexer": "ipython3",
   "version": "3.6.4"
  },
  "varInspector": {
   "cols": {
    "lenName": 16,
    "lenType": 16,
    "lenVar": 40
   },
   "kernels_config": {
    "python": {
     "delete_cmd_postfix": "",
     "delete_cmd_prefix": "del ",
     "library": "var_list.py",
     "varRefreshCmd": "print(var_dic_list())"
    },
    "r": {
     "delete_cmd_postfix": ") ",
     "delete_cmd_prefix": "rm(",
     "library": "var_list.r",
     "varRefreshCmd": "cat(var_dic_list()) "
    }
   },
   "types_to_exclude": [
    "module",
    "function",
    "builtin_function_or_method",
    "instance",
    "_Feature"
   ],
   "window_display": false
  }
 },
 "nbformat": 4,
 "nbformat_minor": 2
}
